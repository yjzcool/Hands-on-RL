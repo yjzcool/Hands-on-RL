{
 "cells": [
  {
   "cell_type": "markdown",
   "metadata": {},
   "source": [
    "# 多臂老虎机问题"
   ]
  },
  {
   "cell_type": "markdown",
   "metadata": {},
   "source": [
    "## 多臂老虎机模型"
   ]
  },
  {
   "cell_type": "code",
   "execution_count": null,
   "metadata": {},
   "outputs": [],
   "source": [
    "import numpy as np\n",
    "import matplotlib.pyplot as plt\n",
    "\n",
    "# 老虎机模型\n",
    "class BernoulliBandit:\n",
    "    def __init__(self, K):\n",
    "        self.probs = np.random.uniform(size=K)  # 随机生成K个0～1的数,作为每根拉杆的实际获奖概率\n",
    "        self.best_idx = np.argmax(self.probs)\n",
    "        self.best_prob = self.probs[self.best_idx]\n",
    "        self.K = K\n",
    "\n",
    "    def step(self, k):\n",
    "        # 定义奖励\n",
    "        if np.random.rand() < self.probs[k]:\n",
    "            return 1\n",
    "        else:\n",
    "            return 0\n",
    "\n",
    "np.random.seed(1)\n",
    "bandit = BernoulliBandit(10)\n",
    "print(bandit.best_idx, bandit.best_prob)\n",
    "print(bandit.probs)"
   ]
  },
  {
   "cell_type": "code",
   "execution_count": null,
   "metadata": {},
   "outputs": [],
   "source": [
    "# 多臂老虎机算法的基本框架\n",
    "class Solver:\n",
    "    def __init__(self, bandit):\n",
    "        self.bandit  = bandit\n",
    "        self.counts = np.zeros(bandit.K) # 记录每个杆被拉了多少次\n",
    "        self.regret = 0.0\n",
    "        self.actions = [] # 记录每一步采取的动作\n",
    "        self.regrets = [] # 记录的是累计懊悔\n",
    "    \n",
    "    def update_regret(self, k):\n",
    "        self.regret += self.bandit.best_prob - self.bandit.probs[k]\n",
    "        self.regrets.append(self.regret)\n",
    "\n",
    "    # 各个策略决策出来的下一步拉哪个杆\n",
    "    def run_one_step(self):\n",
    "        raise NotImplementedError # 如果子类没有实现这个方法，父类会使用这个语句抛出异常\n",
    "    \n",
    "    # 定义每次策略的更新\n",
    "    def run(self, num_steps):\n",
    "        for _ in range(num_steps):\n",
    "            k = self.run_one_step()\n",
    "            self.counts[k] +=1 # 更新计数器\n",
    "            self.actions.append(k)\n",
    "            self.update_regret(k)"
   ]
  },
  {
   "cell_type": "markdown",
   "metadata": {},
   "source": [
    "## epsilon贪婪策略"
   ]
  },
  {
   "cell_type": "code",
   "execution_count": null,
   "metadata": {},
   "outputs": [],
   "source": [
    "# 贪婪策略 需要继承Solver\n",
    "class EpsilonGreedy(Solver):\n",
    "    def __init__(self, bandit, epsilon=0.01):\n",
    "        super().__init__(bandit) # 调用父类的构造函数并传入参数bandit\n",
    "        self.epsilon = epsilon\n",
    "        self.estimates = np.array([1.0] * self.bandit.K) # 初始化期望奖励\n",
    "    \n",
    "    def run_one_step(self):\n",
    "        # 以一定概率取最大期望奖励的杆,epsilon是探索概率\n",
    "        if np.random.rand() < self.epsilon:\n",
    "            k = np.random.randint(0, self.bandit.K)\n",
    "        else:\n",
    "            k = np.argmax(self.estimates)\n",
    "        r = self.bandit.step(k) # 获取本次奖励并更新期望奖励\n",
    "        # 先更新计数器再更新期望奖励，但代码中是先选择出动作，再更新计数器，因此这里counts+1\n",
    "        # 1. / a 结果始终为浮点数\n",
    "        self.estimates[k] +=  1. / (self.counts[k] + 1) *(r - self.estimates[k]) \n",
    "        return k"
   ]
  },
  {
   "cell_type": "code",
   "execution_count": null,
   "metadata": {},
   "outputs": [],
   "source": [
    "# 绘图 solver是各个参数或者策略下的算法解决器，都继承了Solver类\n",
    "def plot_results(solvers, solver_names):\n",
    "    for idx, solver in enumerate(solvers):\n",
    "        time_list = range(len(solver.regrets))\n",
    "        plt.plot(time_list, solver.regrets, label=solver_names[idx])\n",
    "    plt.xlabel('time steps')\n",
    "    plt.ylabel('cumulative regrets')\n",
    "    plt.title('%d-armed bandit' % solvers[0].bandit.K)\n",
    "    plt.legend()\n",
    "    plt.show()"
   ]
  },
  {
   "cell_type": "markdown",
   "metadata": {},
   "source": [
    "### 不变epsilon  "
   ]
  },
  {
   "cell_type": "code",
   "execution_count": null,
   "metadata": {},
   "outputs": [],
   "source": [
    "np.random.seed(1)\n",
    "epsilon_greedy_solver = EpsilonGreedy(bandit)\n",
    "epsilon_greedy_solver.run(5000)\n",
    "plot_results([epsilon_greedy_solver], [\"epsilon=0.01\"])"
   ]
  },
  {
   "cell_type": "code",
   "execution_count": null,
   "metadata": {},
   "outputs": [],
   "source": [
    "# 多种epsilon取值\n",
    "np.random.seed(0)\n",
    "epsilon_list = [1e-4, 0.01, 0.1, 0.25, 0.5]\n",
    "epsilon_greedy_solver_list = [EpsilonGreedy(bandit, epsilon=e) for e in epsilon_list]\n",
    "epsilon_greedy_solver_names = [\"epsilon={}\".format(e) for e in epsilon_list]\n",
    "for solver in epsilon_greedy_solver_list:\n",
    "    solver.run(5000)\n",
    "# 最终epsilon越大，累计懊悔越大\n",
    "plot_results(epsilon_greedy_solver_list, epsilon_greedy_solver_names)"
   ]
  },
  {
   "cell_type": "markdown",
   "metadata": {},
   "source": [
    "### 衰减epsilon"
   ]
  },
  {
   "cell_type": "code",
   "execution_count": null,
   "metadata": {},
   "outputs": [],
   "source": [
    "class DecayingEpsilonGreedy(Solver):\n",
    "    def __init__(self, bandit, init_prob=1.0):\n",
    "        super(DecayingEpsilonGreedy, self).__init__(bandit)\n",
    "        self.estimates = np.array([init_prob] * self.bandit.K)\n",
    "        self.total_count = 0\n",
    "\n",
    "    def run_one_step(self):\n",
    "        self.total_count += 1\n",
    "        if np.random.random() < 1 / self.total_count:  # epsilon值随时间衰减\n",
    "            k = np.random.randint(0, self.bandit.K)\n",
    "        else:\n",
    "            k = np.argmax(self.estimates)\n",
    "        \n",
    "        r = self.bandit.step(k)\n",
    "        self.estimates[k] += 1. / (self.counts[k] + 1) * (r - self.estimates[k])\n",
    "\n",
    "        return k\n",
    "\n",
    "np.random.seed(1)\n",
    "decaying_epsilon_greedy_solver = DecayingEpsilonGreedy(bandit)\n",
    "decaying_epsilon_greedy_solver.run(5000)\n",
    "plot_results([decaying_epsilon_greedy_solver], [\"DecayingEpsilonGreedy\"])"
   ]
  },
  {
   "cell_type": "markdown",
   "metadata": {},
   "source": [
    "## UCB算法"
   ]
  },
  {
   "cell_type": "code",
   "execution_count": null,
   "metadata": {},
   "outputs": [],
   "source": [
    "class UCB(Solver):\n",
    "    def __init__(self, bandit, coef):\n",
    "        super().__init__(bandit)\n",
    "        self.total_count = 0\n",
    "        self.estimates = np.array([1.0] * self.bandit.K)\n",
    "        self.coef = coef # 不确定性比重系数c\n",
    "    \n",
    "    def run_one_step(self):\n",
    "        self.total_count += 1\n",
    "        ucb = self.estimates + self.coef * np.sqrt(np.log(self.total_count) / (2 * self.counts + 1)) # 1*10个数据的ucb\n",
    "        k = np.argmax(ucb)\n",
    "        r = self.bandit.step(k)\n",
    "        # 估计更新\n",
    "        self.estimates[k] += 1. / (self.counts[k] + 1) * (r - self.estimates[k]) \n",
    "        return k\n",
    "    \n",
    "np.random.seed(1)\n",
    "UCB_solver = UCB(bandit, 1)\n",
    "UCB_solver.run(5000)\n",
    "np.set_printoptions(precision=3, suppress=True) # 输出numpy数组控制精度并不以科学计数法\n",
    "# 结果对最优奖励估计得比较准确\n",
    "print(UCB_solver.bandit.probs, UCB_solver.estimates)\n",
    "plot_results([UCB_solver], [\"UCB\"])\n"
   ]
  },
  {
   "cell_type": "markdown",
   "metadata": {},
   "source": [
    "## 汤普森采样"
   ]
  },
  {
   "cell_type": "code",
   "execution_count": 29,
   "metadata": {},
   "outputs": [
    {
     "data": {
      "image/png": "[encoded data removed]",
      "text/plain": [
       "<Figure size 640x480 with 1 Axes>"
      ]
     },
     "metadata": {},
     "output_type": "display_data"
    }
   ],
   "source": [
    "class ThompsonSampling(Solver):\n",
    "    def __init__(self, bandit):\n",
    "        super().__init__(bandit)\n",
    "        self._a = np.ones(self.bandit.K)\n",
    "        self._b = np.ones(self.bandit.K)\n",
    "\n",
    "    def run_one_step(self):\n",
    "        samples = np.random.beta(self._a, self._b)\n",
    "        k = np.argmax(samples)\n",
    "        r = self.bandit.step(k)\n",
    "        self._a[k] += r\n",
    "        self._b[k] += (1-r)\n",
    "        return k\n",
    "\n",
    "np.random.seed(1)\n",
    "thompson_sampling_solver = ThompsonSampling(bandit)\n",
    "thompson_sampling_solver.run(5000)\n",
    "np.set_printoptions(precision=3, suppress=True)\n",
    "plot_results([thompson_sampling_solver], [\"thompson_sampling_solver\"])\n"
   ]
  }
 ],
 "metadata": {
  "kernelspec": {
   "display_name": "base",
   "language": "python",
   "name": "python3"
  },
  "language_info": {
   "codemirror_mode": {
    "name": "ipython",
    "version": 3
   },
   "file_extension": ".py",
   "mimetype": "text/x-python",
   "name": "python",
   "nbconvert_exporter": "python",
   "pygments_lexer": "ipython3",
   "version": "3.11.5"
  }
 },
 "nbformat": 4,
 "nbformat_minor": 2
}
